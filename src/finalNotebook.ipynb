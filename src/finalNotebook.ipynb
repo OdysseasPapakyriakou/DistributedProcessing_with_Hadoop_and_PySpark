{
 "cells": [
  {
   "cell_type": "markdown",
   "metadata": {
    "id": "MNlxJDriOcuP"
   },
   "source": [
    "# 1. Configuration part"
   ]
  },
  {
   "cell_type": "code",
   "execution_count": null,
   "metadata": {
    "id": "4IckMvqxt9Se"
   },
   "outputs": [],
   "source": [
    "!cd /content\n",
    "!wget https://dlcdn.apache.org/spark/spark-3.2.1/spark-3.2.1-bin-hadoop3.2.tgz\n",
    "!tar -xvf spark-3.2.1-bin-hadoop3.2.tgz\n",
    "!java -version\n",
    "import os \n",
    "os.environ[\"SPARK_HOME\"] = \"/content/spark-3.2.1-bin-hadoop3.2\"\n",
    "!pip install findspark\n",
    "import findspark\n",
    "findspark.init()\n",
    "\n",
    "import pyspark\n",
    "from pyspark.sql import SparkSession\n",
    "from pyspark import SparkContext, SparkConf\n",
    "\n",
    "conf = SparkConf()\n",
    "conf.setMaster(\"local[*]\") \\\n",
    "    .setAppName(\"project\") \\\n",
    "    .set(\"spark.ui.port\", \"4050\").set(\"spark.scheduler.mode   \", \"\")\n",
    "\n",
    "sc = pyspark.SparkContext(conf=conf)\n",
    "spark = SparkSession.builder.getOrCreate()"
   ]
  },
  {
   "cell_type": "code",
   "execution_count": null,
   "metadata": {
    "id": "teP4EZUJUVV1"
   },
   "outputs": [],
   "source": [
    "!pip install ipython-autotime\n",
    "%load_ext autotime"
   ]
  },
  {
   "cell_type": "markdown",
   "metadata": {
    "id": "7zyWWTT0OlzQ"
   },
   "source": [
    "# 2. Loading the data\n",
    "### this part contains 3 sub-sections:\n",
    "1. for loading the small dataset\n",
    "2. for loading the medium dataset\n",
    "3. for loading the large dataset\n",
    "\n",
    "The program runs in such a way, that the user can work with one such dataset at a time, since they all have the same variable name: exp_data_small. Therefore, only one of these cells is required to run the program. If the user runs the program once with the small dataset and then wants to run it with the medium dataset, for example, then they would have to run the cell corresponding only to the medium dataset and the remaining of the program."
   ]
  },
  {
   "cell_type": "markdown",
   "metadata": {
    "id": "kCy3qQnbRg47"
   },
   "source": [
    "## 2.1. This is a toy dataset that was used for initial experimentation"
   ]
  },
  {
   "cell_type": "code",
   "execution_count": null,
   "metadata": {
    "id": "sKaepJ0c-KOR"
   },
   "outputs": [],
   "source": [
    "data = spark.read.load(\"sample_data/happyPath.csv\", format=\"csv\", inferSchema=True, header=True)"
   ]
  },
  {
   "cell_type": "markdown",
   "metadata": {
    "id": "RrkqUye2pf-A"
   },
   "source": [
    "## 2.2 This is the small and well known dataset titanic.csv\n"
   ]
  },
  {
   "cell_type": "code",
   "execution_count": null,
   "metadata": {
    "id": "yOHUbFrBctqS"
   },
   "outputs": [],
   "source": [
    "!wget https://raw.githubusercontent.com/datasciencedojo/datasets/master/titanic.csv\n",
    "exp_data = spark.read.load(\"titanic.csv\", format=\"csv\", inferSchema=True, header=True)\n",
    "exp_data=exp_data.fillna(-9999999)\n",
    "exp_data=exp_data.na.fill(-9999999)\n",
    "exp_data_final = exp_data"
   ]
  },
  {
   "cell_type": "markdown",
   "metadata": {
    "id": "VEfWNKu7pmC4"
   },
   "source": [
    "## 2.3. This is the medium dataset from IMDB\n",
    "* It contains the title of movies and some other information. \n",
    "* It is 0.1% of the original dataset."
   ]
  },
  {
   "cell_type": "code",
   "execution_count": null,
   "metadata": {
    "id": "QPtJ3tpXDsF9"
   },
   "outputs": [],
   "source": [
    "!wget https://datasets.imdbws.com/title.basics.tsv.gz\n",
    "!gzip -d title.basics.tsv.gz\n",
    "exp_data = spark.read.load(\"title.basics.tsv\", format=\"csv\", sep=\"\\t\", inferSchema=True, header=True)\n",
    "exp_data=exp_data.fillna(-9999999)\n",
    "exp_data=exp_data.na.fill(-9999999)\n",
    "exp_data_final = exp_data.sample(0.001, seed=111)"
   ]
  },
  {
   "cell_type": "markdown",
   "metadata": {
    "id": "wKf1atqBSOO0"
   },
   "source": [
    "## 2.3. This is the large dataset from IMDB\n",
    "* It is from the same original dataset as the medium one, containing the title of movies and some other information. \n",
    "* It is 1% of the original dataset."
   ]
  },
  {
   "cell_type": "code",
   "execution_count": 11,
   "metadata": {
    "colab": {
     "base_uri": "https://localhost:8080/"
    },
    "id": "UwH5A7s2VYIo",
    "outputId": "6f93ac92-6c80-44af-9999-914fbc33aa3c"
   },
   "outputs": [
    {
     "name": "stdout",
     "output_type": "stream",
     "text": [
      "--2022-07-04 10:12:03--  https://datasets.imdbws.com/title.basics.tsv.gz\n",
      "Resolving datasets.imdbws.com (datasets.imdbws.com)... 18.65.39.47, 18.65.39.122, 18.65.39.113, ...\n",
      "Connecting to datasets.imdbws.com (datasets.imdbws.com)|18.65.39.47|:443... connected.\n",
      "HTTP request sent, awaiting response... 200 OK\n",
      "Length: 158043466 (151M) [binary/octet-stream]\n",
      "Saving to: ‘title.basics.tsv.gz’\n",
      "\n",
      "title.basics.tsv.gz 100%[===================>] 150.72M   177MB/s    in 0.9s    \n",
      "\n",
      "2022-07-04 10:12:04 (177 MB/s) - ‘title.basics.tsv.gz’ saved [158043466/158043466]\n",
      "\n",
      "gzip: title.basics.tsv already exists; do you wish to overwrite (y or n)? y\n",
      "y\n",
      "time: 36.3 s (started: 2022-07-04 10:12:03 +00:00)\n"
     ]
    }
   ],
   "source": [
    "!wget https://datasets.imdbws.com/title.basics.tsv.gz\n",
    "!gzip -d title.basics.tsv.gz\n",
    "exp_data = spark.read.load(\"title.basics.tsv\", format=\"csv\", sep=\"\\t\", inferSchema=True, header=True)\n",
    "exp_data=exp_data.fillna(-9999999)\n",
    "exp_data=exp_data.na.fill(-9999999)\n",
    "exp_data_final = exp_data.sample(0.01, seed=111)"
   ]
  },
  {
   "cell_type": "markdown",
   "metadata": {
    "id": "fAeG2MODrjH6"
   },
   "source": [
    "# 3. Preprocessing\n",
    "## Transforming the dataset to numerical values with StringIndexer"
   ]
  },
  {
   "cell_type": "code",
   "execution_count": 12,
   "metadata": {
    "colab": {
     "base_uri": "https://localhost:8080/"
    },
    "id": "DfWmJuJVUO0s",
    "outputId": "04f0c95e-b95a-4962-f524-f52a59d86ffe"
   },
   "outputs": [
    {
     "name": "stdout",
     "output_type": "stream",
     "text": [
      "time: 23.5 s (started: 2022-07-04 10:13:38 +00:00)\n"
     ]
    }
   ],
   "source": [
    "from pyspark.sql.functions import col\n",
    "from pyspark.ml.feature import StringIndexer\n",
    "\n",
    "def dataToStringIndexer(d):\n",
    "    inputs = d.columns\n",
    "    outputs = [i+\"Indexed\" for i in inputs]\n",
    "    indexed = StringIndexer(inputCols=inputs, outputCols=outputs)\n",
    "    indexedModel = indexed.setHandleInvalid(\"keep\").fit(d)\n",
    "    d = indexedModel.transform(d)\n",
    "    d = d.drop(*inputs)\n",
    "\n",
    "    return d\n",
    "\n",
    "indexed_data = dataToStringIndexer(exp_data_final)"
   ]
  },
  {
   "cell_type": "code",
   "execution_count": null,
   "metadata": {
    "colab": {
     "base_uri": "https://localhost:8080/"
    },
    "id": "8woM9t2uXYzz",
    "outputId": "f587fc8d-64df-48dd-8ce8-9d18d47689aa"
   },
   "outputs": [
    {
     "name": "stdout",
     "output_type": "stream",
     "text": [
      "+-------------+----------------+-------------------+--------------------+--------------+----------------+--------------+---------------------+-------------+\n",
      "|tconstIndexed|titleTypeIndexed|primaryTitleIndexed|originalTitleIndexed|isAdultIndexed|startYearIndexed|endYearIndexed|runtimeMinutesIndexed|genresIndexed|\n",
      "+-------------+----------------+-------------------+--------------------+--------------+----------------+--------------+---------------------+-------------+\n",
      "|          0.0|             1.0|             4403.0|              4406.0|           0.0|           118.0|           0.0|                  0.0|         93.0|\n",
      "|          1.0|             1.0|              744.0|               737.0|           0.0|            74.0|           0.0|                 22.0|         12.0|\n",
      "+-------------+----------------+-------------------+--------------------+--------------+----------------+--------------+---------------------+-------------+\n",
      "only showing top 2 rows\n",
      "\n"
     ]
    },
    {
     "data": {
      "text/plain": [
       "8989"
      ]
     },
     "execution_count": 71,
     "metadata": {},
     "output_type": "execute_result"
    },
    {
     "name": "stdout",
     "output_type": "stream",
     "text": [
      "time: 3.97 s (started: 2022-07-02 21:03:38 +00:00)\n"
     ]
    }
   ],
   "source": [
    "indexed_data.show(2)\n",
    "indexed_data.count()"
   ]
  },
  {
   "cell_type": "markdown",
   "metadata": {
    "id": "0g4hno39aFJO"
   },
   "source": [
    "# 4. Baseline: k-means"
   ]
  },
  {
   "cell_type": "markdown",
   "metadata": {
    "id": "n_KqNbMwUKtK"
   },
   "source": [
    "## 4.1. Pre-process the data for k-means"
   ]
  },
  {
   "cell_type": "code",
   "execution_count": 13,
   "metadata": {
    "colab": {
     "base_uri": "https://localhost:8080/"
    },
    "id": "ac0f04dTBzKQ",
    "outputId": "98a8b917-1b23-478e-c810-113e34a5998a"
   },
   "outputs": [
    {
     "name": "stdout",
     "output_type": "stream",
     "text": [
      "time: 934 ms (started: 2022-07-04 10:14:01 +00:00)\n"
     ]
    }
   ],
   "source": [
    "from pyspark.ml.feature import VectorAssembler, VectorIndexer, StandardScaler\n",
    "\n",
    "def dataAssembler(indexed):\n",
    "    data_assembled = VectorAssembler(inputCols=indexed.columns,outputCol=\"features\").transform(indexed)\n",
    "    data_assembled = data_assembled.drop(*indexed.columns)\n",
    "    return data_assembled\n",
    "\n",
    "data_assembled = dataAssembler(indexed_data)"
   ]
  },
  {
   "cell_type": "markdown",
   "metadata": {
    "id": "MAe8dGuIUTG8"
   },
   "source": [
    "## 4.2. Estimate silhouette scores for up to 14 different number of clusters"
   ]
  },
  {
   "cell_type": "code",
   "execution_count": 16,
   "metadata": {
    "colab": {
     "base_uri": "https://localhost:8080/"
    },
    "id": "-h4s3LZiZ0XT",
    "outputId": "5ddf9789-b856-4806-b60d-0bbf4bd309e0"
   },
   "outputs": [
    {
     "name": "stdout",
     "output_type": "stream",
     "text": [
      "time: 33min 23s (started: 2022-07-04 10:16:09 +00:00)\n"
     ]
    }
   ],
   "source": [
    "\n",
    "from pyspark.ml.clustering import KMeans\n",
    "from pyspark.ml.evaluation import ClusteringEvaluator\n",
    "from math import sqrt\n",
    "\n",
    "def estimateSilhouetteScores(assembled, range_start, range_stop, range_step):\n",
    "    silhouette_scores = {}    \n",
    "    evaluator = ClusteringEvaluator(featuresCol='features', \\\n",
    "                metricName='silhouette', distanceMeasure='squaredEuclidean')\n",
    "\n",
    "    ks = [i for i in range(range_start, range_stop, range_step)]\n",
    "    for K in range(range_start, range_stop, range_step):\n",
    "        KMeans_ = KMeans(featuresCol='features', k=K, maxIter=5)\n",
    "        KMeans_fit = KMeans_.fit(assembled)\n",
    "        km_trans = KMeans_fit.transform(assembled) \n",
    "        evaluation_score = evaluator.evaluate(km_trans)\n",
    "        silhouette_scores[K] = evaluation_score\n",
    "    \n",
    "    return silhouette_scores, ks\n",
    "\n",
    "sil, ks = estimateSilhouetteScores(data_assembled, 2, 15, 1)"
   ]
  },
  {
   "cell_type": "code",
   "execution_count": 17,
   "metadata": {
    "colab": {
     "base_uri": "https://localhost:8080/",
     "height": 530
    },
    "id": "tYAPQs1Fa9Md",
    "outputId": "24b8acbd-14e7-4144-d3e6-a2de2be65c45"
   },
   "outputs": [
    {
     "data": {
      "image/png": "[encoded data removed]",
      "text/plain": [
       "<Figure size 720x576 with 1 Axes>"
      ]
     },
     "metadata": {
      "needs_background": "light"
     },
     "output_type": "display_data"
    },
    {
     "name": "stdout",
     "output_type": "stream",
     "text": [
      "time: 298 ms (started: 2022-07-04 10:49:32 +00:00)\n"
     ]
    }
   ],
   "source": [
    "import matplotlib.pyplot as plt\n",
    "\n",
    "def plotSilhouette(sil, ks):\n",
    "    fig, ax = plt.subplots(1,1, figsize =(10,8))\n",
    "    ax.plot(ks, list(sil.values()))\n",
    "    ax.set_title(\"Silhouette score for different number of clusters\")\n",
    "    ax.set_xlabel('Number of Clusters')\n",
    "    ax.set_ylabel('Silhouette Score')\n",
    "\n",
    "plotSilhouette(sil, ks)"
   ]
  },
  {
   "cell_type": "markdown",
   "metadata": {
    "id": "kK5XJtbBVT-g"
   },
   "source": [
    "## 4.3. Run k-means with a selected k\n",
    "The k is to be decided by the user based on this plot and the elbow method. An example is shown as a comment for k = 7"
   ]
  },
  {
   "cell_type": "code",
   "execution_count": 18,
   "metadata": {
    "colab": {
     "base_uri": "https://localhost:8080/"
    },
    "id": "WDBJUPqDbndB",
    "outputId": "649b163e-b915-4700-9d37-c29a37f27153"
   },
   "outputs": [
    {
     "name": "stdout",
     "output_type": "stream",
     "text": [
      "time: 6.44 ms (started: 2022-07-04 10:49:32 +00:00)\n"
     ]
    }
   ],
   "source": [
    "from pyspark.ml.clustering import KMeans\n",
    "from pyspark.ml.evaluation import ClusteringEvaluator\n",
    "from math import sqrt\n",
    "\n",
    "def runKMeans(df, k):\n",
    "    # run k means based on the selected number of k\n",
    "    KMeans_ = KMeans(featuresCol='features', k=k)\n",
    "    KMeans_fit = KMeans_.fit(df)\n",
    "    km_trans = KMeans_fit.transform(df)\n",
    "    km_trans = km_trans.drop(\"features\")\n",
    "    return km_trans\n",
    "\n",
    "# data_pred = runKMeans(data_assembled, 7)"
   ]
  },
  {
   "cell_type": "markdown",
   "metadata": {
    "id": "kHMmNU5iV0F6"
   },
   "source": [
    "## 4.4. Add the prediction column to the indexed dataset"
   ]
  },
  {
   "cell_type": "code",
   "execution_count": 19,
   "metadata": {
    "colab": {
     "base_uri": "https://localhost:8080/"
    },
    "id": "xjHrUGYI8H-i",
    "outputId": "e78dd82d-6d88-4c31-9f5c-8486017d17bf"
   },
   "outputs": [
    {
     "name": "stdout",
     "output_type": "stream",
     "text": [
      "time: 7.83 ms (started: 2022-07-04 10:49:32 +00:00)\n"
     ]
    }
   ],
   "source": [
    "from pyspark.sql.functions import monotonically_increasing_id, row_number\n",
    "from pyspark.sql.window import Window\n",
    "\n",
    "\n",
    "def addPrediction(indexedDF, kmDF):\n",
    "    # since there is no common column between these two dataframes add row_index so that they can be joined\n",
    "    x=indexedDF.withColumn('row_index', row_number().over(Window.orderBy(monotonically_increasing_id())))\n",
    "    y=kmDF.withColumn('row_index', row_number().over(Window.orderBy(monotonically_increasing_id())))\n",
    "    x = x.join(y, on=[\"row_index\"]).drop(\"row_index\", \"features\")\n",
    "    return x\n",
    "\n",
    "# added_prediction = addPrediction(indexed_data, data_pred)\n",
    "# added_prediction.show(5)"
   ]
  },
  {
   "cell_type": "markdown",
   "metadata": {
    "id": "BFryIgSRWBlk"
   },
   "source": [
    "## 4.5. Create different datasets based on the groups determined by k-means and calculate the homogeneity of each group, as well as the average homogeneity."
   ]
  },
  {
   "cell_type": "code",
   "execution_count": 20,
   "metadata": {
    "colab": {
     "base_uri": "https://localhost:8080/"
    },
    "id": "D2_K5O0aoS12",
    "outputId": "a4d36c48-7a5d-4889-84f2-79e40511b8d4"
   },
   "outputs": [
    {
     "name": "stdout",
     "output_type": "stream",
     "text": [
      "time: 3.24 ms (started: 2022-07-04 10:49:32 +00:00)\n"
     ]
    }
   ],
   "source": [
    "def groupDF(indexedDF, k):\n",
    "    ds = {}\n",
    "    for i in range(k):\n",
    "        di = indexedDF.filter(indexedDF.prediction == i)\n",
    "        ds[i] = di\n",
    "    return ds"
   ]
  },
  {
   "cell_type": "code",
   "execution_count": 21,
   "metadata": {
    "colab": {
     "base_uri": "https://localhost:8080/"
    },
    "id": "duFMyXvpo8Ln",
    "outputId": "e46b0397-342d-47b9-8862-62055c380b43"
   },
   "outputs": [
    {
     "name": "stdout",
     "output_type": "stream",
     "text": [
      "time: 28.8 ms (started: 2022-07-04 10:49:32 +00:00)\n"
     ]
    }
   ],
   "source": [
    "from itertools import chain\n",
    "from collections import Counter\n",
    "from pyspark.sql.functions import col, lit, create_map, explode\n",
    "\n",
    "def hom_rdd(df):\n",
    "    key_values = create_map(*(chain(*[(lit(name), col(name)) for name in df.columns])))\n",
    "    df_new = df.select(explode(key_values))\n",
    "    nrows = df.count()\n",
    "    x = df_new.rdd.groupByKey() \\\n",
    "                        .mapValues(list) \\\n",
    "                        .map(lambda x: (x[0], Counter(x[1]).most_common(1))) \\\n",
    "                        .map(lambda x: (x[0], x[1][0][1])) \\\n",
    "                        .map(lambda x: (x[0], x[1] if x[1] > 1 else 0)) \\\n",
    "                        .map(lambda x: (x[0], x[1]/nrows))\n",
    "\n",
    "    attrs = x.map(lambda x: x[0]).collect()\n",
    "    homs = x.map(lambda x: x[1]).collect()\n",
    "    hom_of_df = x.map(lambda x: x[1]).mean()\n",
    "\n",
    "    return hom_of_df, dict(zip(attrs, homs))\n",
    "\n",
    "\n",
    "def homD(ds):\n",
    "    \"\"\"ds: a dictionary with one entry for each cluster df\"\"\"\n",
    "    clusters_hom = {}\n",
    "    for i in range(len(ds)):\n",
    "        clusters_hom[i] = hom_rdd(ds[i])[0]\n",
    "    return sum(clusters_hom.values()) / len(clusters_hom)"
   ]
  },
  {
   "cell_type": "code",
   "execution_count": null,
   "metadata": {
    "id": "st3glKHejvHA"
   },
   "outputs": [],
   "source": [
    "def runSeveralK(assembled_data, indexed_data, ks):\n",
    "    \"\"\"Returns a dictionary\n",
    "    key: the number of clusters\n",
    "    value: the average homogeneity across all clusters\"\"\"\n",
    "\n",
    "    Kmeans_Results={}\n",
    "    for k in ks:\n",
    "        print(\"now at\", k, \"clusters\")\n",
    "        data_pred = runKMeans(assembled_data, k)\n",
    "        d = addPrediction(indexed_data, data_pred)\n",
    "        ds = groupDF(d, k)\n",
    "        Kmeans_Results[k] = homD(ds)\n",
    "\n",
    "    return Kmeans_Results\n",
    "\n",
    "KMeans_Result = runSeveralK(data_assembled, indexed_data, ks)"
   ]
  },
  {
   "cell_type": "markdown",
   "metadata": {
    "id": "KrCw0_-yz1Ye"
   },
   "source": [
    "# 5. Our proposed solution: the Tree Algorithm"
   ]
  },
  {
   "cell_type": "code",
   "execution_count": 18,
   "metadata": {
    "colab": {
     "base_uri": "https://localhost:8080/"
    },
    "id": "rdK6qrSr0E1X",
    "outputId": "f6ddea3d-b83c-421c-e375-9b316607c337"
   },
   "outputs": [
    {
     "name": "stdout",
     "output_type": "stream",
     "text": [
      "time: 152 ms (started: 2022-07-04 08:52:36 +00:00)\n"
     ]
    }
   ],
   "source": [
    "import numpy as np\n",
    "from itertools import chain\n",
    "from collections import Counter\n",
    "from pyspark.sql.functions import col, lit, create_map, explode\n",
    "import pyspark.sql.functions as F\n",
    "\n",
    "class Node:\n",
    "    def __init__(self, df=None, feature=None, query=\"\", hom_measure=None, leaf=True, left_child=None, right_child=None):\n",
    "        self.df = df\n",
    "        self.feature = feature\n",
    "        self.left_child = left_child\n",
    "        self.right_child = right_child\n",
    "        self.hom_measure = hom_measure\n",
    "        self.leaf = leaf\n",
    "\n",
    "class TreeAlgorithm:\n",
    "    def __init__(self, df, limit=None):\n",
    "        self.nrows = df.count()\n",
    "        self.df = df\n",
    "    \n",
    "    def hom(self, df):\n",
    "        \"\"\"df: the indexed data\"\"\"\n",
    "        df = df.drop(\"prediction\", \"scaledFeatures\")\n",
    "        nrows = df.count()\n",
    "        hom = 0\n",
    "        cols = df.columns\n",
    "        hom_per_column = {}\n",
    "        for i in cols:\n",
    "            c = df.groupBy(i).count().agg({\"count\": \"max\"}).collect()[0][\"max(count)\"]\n",
    "            if c == 1 and nrows > 1:\n",
    "                c = 0\n",
    "            hom_per_column[i] = c / nrows\n",
    "            hom += c/nrows\n",
    "        return hom/len(cols), hom_per_column\n",
    "    \n",
    "    def hom_rdd(self, df):\n",
    "        key_values = create_map(*(chain(*[(lit(name), col(name)) for name in df.columns])))\n",
    "        df_new = df.select(explode(key_values))\n",
    "        nrows = df.count()\n",
    "        x = df_new.rdd.groupByKey() \\\n",
    "                            .mapValues(list) \\\n",
    "                            .map(lambda x: (x[0], Counter(x[1]).most_common(1))) \\\n",
    "                            .map(lambda x: (x[0], x[1][0][1])) \\\n",
    "                            .map(lambda x: (x[0], x[1] if x[1] > 1 else 0)) \\\n",
    "                            .map(lambda x: (x[0], x[1]/nrows))\n",
    "\n",
    "        attrs = x.map(lambda x: x[0]).collect()\n",
    "        homs = x.map(lambda x: x[1]).collect()\n",
    "        hom_of_df = x.map(lambda x: x[1]).mean()\n",
    "\n",
    "        return hom_of_df, dict(zip(attrs, homs))\n",
    "    \n",
    "    def setHardLimit(self, limit):\n",
    "        \"\"\"returns the minimum number of rows that are required for every group\"\"\"\n",
    "        self.limit = int(self.df.count() * limit)\n",
    "\n",
    "    def isValidSplit(self, hom_val, hard_limit, node_df):\n",
    "        node_rows = node_df.count()\n",
    "        return ((node_rows * hom_val) >= hard_limit) and ((node_rows * (1-hom_val)) >= hard_limit)\n",
    "\n",
    "    def getHomMeasure(self, node_df):\n",
    "        return self.hom_rdd(node_df)[0]\n",
    "\n",
    "    def tree_grow(self, dataframe):\n",
    "        hom_of_root = self.hom_rdd(dataframe)[1] # this is the dictionary\n",
    "        node = Node(dataframe, hom_measure=None)\n",
    "        node_list = [node]\n",
    "        tree = []\n",
    "        node_limit = self.limit\n",
    "        c2 = 0\n",
    "        while len(node_list) != 0:\n",
    "            # print(\"now at split:\", c2+1)\n",
    "            current_node = node_list.pop(0)      \n",
    "            single_hom_val, hom_node = self.hom_rdd(current_node.df) # val, dict with hom for each column\n",
    "            ordered_hom_list = sorted(list(hom_node.items()), key = lambda x: x[1], reverse=True)\n",
    "            c = 0\n",
    "            isLeaf = True\n",
    "            # hom_val_tuple: (col_name, hom_of_col)\n",
    "            for hom_val_tuple in ordered_hom_list:\n",
    "                if self.isValidSplit(hom_val_tuple[1], node_limit, current_node.df):\n",
    "                    isLeaf = False\n",
    "\n",
    "                    my_val = current_node.df.groupBy(hom_val_tuple[0]) \\\n",
    "                                             .count() \\\n",
    "                                             .orderBy(F.desc(\"count\")) \\\n",
    "                                             .select(hom_val_tuple[0]) \\\n",
    "                                             .collect()[0][hom_val_tuple[0]]\n",
    "\n",
    "                    left_child_df = current_node.df.filter(hom_val_tuple[0] + \"== \" + str(my_val))\n",
    "                    right_child_df = current_node.df.filter(hom_val_tuple[0] + \"!= \" + str(my_val))\n",
    "                    \n",
    "                    left_query = \"select * from DATABASE_NAME\\n \" +\\\n",
    "                                 \"where \" + str(hom_val_tuple[0]) + \" == \" + str(my_val)\n",
    "                    \n",
    "                    right_query = \"select * from DATABASE_NAME\\n \" +\\\n",
    "                                  \"where \" + str(hom_val_tuple[0]) + \" != \" + str(my_val)\n",
    "                    \n",
    "                    left_child_node = Node(left_child_df)\n",
    "                    right_child_node = Node(right_child_df)\n",
    "\n",
    "                    node_list.append(left_child_node)\n",
    "                    current_node.left_child = left_child_node\n",
    "                    \n",
    "                    node_list.append(right_child_node)\n",
    "                    current_node.right_child = right_child_node\n",
    "\n",
    "                    current_node.feature = hom_val_tuple[0]\n",
    "                    current_node.leaf = False\n",
    "\n",
    "                    left_child_node.query = left_query\n",
    "                    right_child_node.query = right_query\n",
    "                    tree.append(current_node)\n",
    "                    c += 1\n",
    "                    break\n",
    "            c2 += 1\n",
    "            if isLeaf:\n",
    "                tree.append(current_node)\n",
    "                current_node.leaf = True\n",
    "                current_node.hom_measure = single_hom_val\n",
    "\n",
    "        return tree   "
   ]
  },
  {
   "cell_type": "code",
   "execution_count": null,
   "metadata": {
    "id": "McDuc4uhmHdg"
   },
   "outputs": [],
   "source": [
    "# 0.05, 0.1,\n",
    "limits = [0.15, 0.2, 0.25, 0.30, 0.35]\n",
    "results = {}\n",
    "hom_dict = {}\n",
    "leaves_dict = {}\n",
    "for i in range(len(limits)):\n",
    "    print(\"now at limit:\", i+1, \"out of\", len(limits))\n",
    "    algo = TreeAlgorithm(indexed_data)\n",
    "    algo.setHardLimit(limits[i])\n",
    "    tree = algo.tree_grow(indexed_data)\n",
    "    r = sc.parallelize([i.hom_measure for i in tree if i.leaf == True])\n",
    "    results[limits[i]] = r.mean()\n",
    "    hom_dict[limits[i]] = r.mean()\n",
    "    leaves_dict[limits[i]] = r.count()"
   ]
  },
  {
   "cell_type": "code",
   "execution_count": null,
   "metadata": {
    "id": "BdKPsdaQ0EGa"
   },
   "outputs": [],
   "source": [
    "%%timeit\n",
    "limits = [0.05,0.07,0.1,0.15,0.2,0.25,0.26,0.27,0.28,0.33]\n",
    "results={}\n",
    "for i in range(len(limits)):\n",
    "    print(\"now at limit:\", i+1, \"out of\", len(limits))\n",
    "    algo = TreeAlgorithm(indexed_data)\n",
    "    algo.setHardLimit(limits[i])\n",
    "    tree = algo.tree_grow(indexed_data)\n",
    "    r = sc.parallelize([i.hom_measure for i in tree if i.leaf == True])\n",
    "    results[limits[i]]=r.mean()"
   ]
  },
  {
   "cell_type": "code",
   "execution_count": null,
   "metadata": {
    "id": "jw55RVZIm6h2"
   },
   "outputs": [],
   "source": [
    "def createPlots(dataset_size: str, km_results: dict, tree_results: dict):\n",
    "    fig = plt.figure(figsize=(13, 5))\n",
    "\n",
    "    plt.subplot(1, 2, 1)\n",
    "    plt.plot(list(km_results.keys()), list(km_results.values()))\n",
    "    plt.title(\"k-means\")\n",
    "    plt.xlabel(\"number of clusters\")\n",
    "    plt.ylabel(\"homogeneity score\")\n",
    "    plt.ylim(0.3, 0.6)\n",
    "\n",
    "    plt.subplot(1, 2, 2)\n",
    "    plt.plot(list(tree_results.keys()), list(tree_results.values()))\n",
    "    plt.title(\"treeAlgorithm\")\n",
    "    plt.xlabel(\"hard limit for splitting the tree\")\n",
    "    plt.ylabel(\"homogeneity score\")\n",
    "    plt.ylim(0.3, 0.6)\n",
    "    plt.savefig(dataset_size + \".png\")\n",
    "    plt.show()\n",
    "\n",
    "createPlots(\"large_dataset\", KMeans_Result, results)"
   ]
  },
  {
   "cell_type": "code",
   "execution_count": null,
   "metadata": {
    "colab": {
     "base_uri": "https://localhost:8080/",
     "height": 385
    },
    "id": "6PYJCjDicAfW",
    "outputId": "48a25042-5e66-4f47-c820-665a5c0d6691"
   },
   "outputs": [
    {
     "data": {
      "text/plain": [
       "Text(0, 0.5, 'Hom value')"
      ]
     },
     "execution_count": 85,
     "metadata": {},
     "output_type": "execute_result"
    },
    {
     "data": {
      "image/png": "[encoded data removed]",
      "text/plain": [
       "<Figure size 864x360 with 1 Axes>"
      ]
     },
     "metadata": {
      "needs_background": "light"
     },
     "output_type": "display_data"
    },
    {
     "name": "stdout",
     "output_type": "stream",
     "text": [
      "time: 177 ms (started: 2022-07-03 00:52:46 +00:00)\n"
     ]
    }
   ],
   "source": [
    "#Hom and amount of leaves it creates\n",
    "fig, ax = plt.subplots()\n",
    "fig.set_size_inches(12, 5)\n",
    "ax.scatter(list(leaves_dict.keys()), list(hom_dict.values()))\n",
    "\n",
    "for i, txt in enumerate(list(leaves_dict.values())):\n",
    "    ax.annotate(txt, (list(leaves_dict.keys())[i], list(hom_dict.values())[i]))\n",
    "\n",
    "plt.title(\"Number of leaves (in annotation) tree across different limits\")\n",
    "plt.xlabel(\"Hard Limit\")\n",
    "plt.ylabel(\"Hom value\")"
   ]
  },
  {
   "cell_type": "code",
   "execution_count": null,
   "metadata": {
    "colab": {
     "base_uri": "https://localhost:8080/",
     "height": 314
    },
    "id": "sXfuZCpodMph",
    "outputId": "48a1fc38-db5a-4f24-a7c7-76c2eb48d30b"
   },
   "outputs": [
    {
     "data": {
      "text/plain": [
       "<matplotlib.legend.Legend at 0x7fbc9b787b50>"
      ]
     },
     "execution_count": 61,
     "metadata": {},
     "output_type": "execute_result"
    },
    {
     "data": {
      "image/png": "[encoded data removed]",
      "text/plain": [
       "<Figure size 432x288 with 1 Axes>"
      ]
     },
     "metadata": {
      "needs_background": "light"
     },
     "output_type": "display_data"
    },
    {
     "name": "stdout",
     "output_type": "stream",
     "text": [
      "time: 224 ms (started: 2022-07-02 20:47:24 +00:00)\n"
     ]
    }
   ],
   "source": [
    "import matplotlib.pyplot as plt\n",
    "names=[\"Small\",\"Medium\",\"Large\"]\n",
    "KMeans_Search=[21.8,1047,1948]\n",
    "KMeans_SpecificValue=[1.1,59.3,115]\n",
    "Finding_Hom_For_Every_Value=[194,None,None]\n",
    "treeGrowPlot=[87,None,5439]\n",
    "fig, ax = plt.subplots()\n",
    "ax.scatter(names, KMeans_Search,marker=\"o\",label=\"K Means Sil search\")\n",
    "ax.scatter(names, KMeans_SpecificValue,marker=\"x\",label=\"K Means for a given k\")\n",
    "ax.scatter(names, Finding_Hom_For_Every_Value,marker=\".\",label=\"K Means homogeneity for a range of k's\")\n",
    "ax.scatter(names, treeGrowPlot,marker=\"<\",label=\"tree grow for a range of hard limits\")\n",
    "plt.ylabel(\"Time In seconds\")\n",
    "plt.xlabel(\"Dataset size\")\n",
    "ax.legend(loc='best')"
   ]
  }
 ],
 "metadata": {
  "accelerator": "GPU",
  "colab": {
   "collapsed_sections": [],
   "name": "Copy of test.ipynb",
   "provenance": []
  },
  "gpuClass": "standard",
  "kernelspec": {
   "display_name": "Python 3 (ipykernel)",
   "language": "python",
   "name": "python3"
  },
  "language_info": {
   "codemirror_mode": {
    "name": "ipython",
    "version": 3
   },
   "file_extension": ".py",
   "mimetype": "text/x-python",
   "name": "python",
   "nbconvert_exporter": "python",
   "pygments_lexer": "ipython3",
   "version": "3.9.7"
  }
 },
 "nbformat": 4,
 "nbformat_minor": 1
}
